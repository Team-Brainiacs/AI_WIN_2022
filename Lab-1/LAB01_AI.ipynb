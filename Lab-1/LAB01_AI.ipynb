{
  "nbformat": 4,
  "nbformat_minor": 0,
  "metadata": {
    "colab": {
      "provenance": []
    },
    "kernelspec": {
      "name": "python3",
      "display_name": "Python 3"
    },
    "language_info": {
      "name": "python"
    }
  },
  "cells": [
    {
      "cell_type": "markdown",
      "source": [
        "#Write a pseudocode for a graph search agent. Represent the agent in the form of a flow chart. Clearly mention all the implementation details with reasons."
      ],
      "metadata": {
        "id": "O4qWQzHCujDj"
      }
    },
    {
      "cell_type": "code",
      "source": [
        "class Node:\n",
        "    def __init__(self, parent, state):\n",
        "        \n",
        "        self.parent = parent\n",
        "        self.state = state\n",
        "        \n",
        "class Agent:\n",
        "    def __init__(self,env):\n",
        "        self.env=env\n",
        "        self.goal_node=None \n",
        "\n",
        "    \n",
        "    def run(self):\n",
        "        steps=0\n",
        "        initial_node=Node(parent=None,state=self.env.start_state)\n",
        "        frontier=[initial_node]\n",
        "        explored=()        \n",
        "\n",
        "        while len(frontier)!=0: # while frontier not empty\n",
        "            cur=frontier.pop(0) # Node for current state\n",
        "\n",
        "            next_states=self.env.get_next_states(cur.state) # gets the list of all next states possible from current state\n",
        "\n",
        "            # If the node is already visited skip this iteration\n",
        "            if cur in explored:\n",
        "                continue\n",
        "\n",
        "            explored.append(cur)\n",
        "\n",
        "            # If cur is goal state stop\n",
        "            if self.env.is_goal_state(cur.state):\n",
        "                self.goal_node=cur\n",
        "                break            \n",
        "            # add each state in frontier to check for goal further\n",
        "            for state in next_states:\n",
        "                node=Node(parent=cur,state=state)\n",
        "                frontier.append(node)\n",
        "            \n",
        "            steps+=1\n",
        "\n",
        "        return steps,self.solution_depth()\n",
        "    \n",
        "    def solution_depth(self):\n",
        "        node=self.goal_node\n",
        "        count=0\n",
        "        while node !=None:\n",
        "            node=node.parent\n",
        "            count+=1\n",
        "\n",
        "        return count\n",
        "    def get_sequence(self):\n",
        "        node=self.goal_node\n",
        "        res=[]\n",
        "        \n",
        "        while node != None:\n",
        "            res.append(node.state)            \n",
        "            node=node.parent\n",
        "        return res[::-1]\n"
      ],
      "metadata": {
        "colab": {
          "base_uri": "https://localhost:8080/",
          "height": 132
        },
        "id": "LGq5reLmojlm",
        "outputId": "f52d9926-cd26-4fb7-a172-336606230df1"
      },
      "execution_count": 21,
      "outputs": [
        {
          "output_type": "error",
          "ename": "IndentationError",
          "evalue": "ignored",
          "traceback": [
            "\u001b[0;36m  File \u001b[0;32m\"<ipython-input-21-bec872521572>\"\u001b[0;36m, line \u001b[0;32m41\u001b[0m\n\u001b[0;31m    steps+=1\u001b[0m\n\u001b[0m    ^\u001b[0m\n\u001b[0;31mIndentationError\u001b[0m\u001b[0;31m:\u001b[0m expected an indented block\n"
          ]
        }
      ]
    },
    {
      "cell_type": "markdown",
      "source": [
        "#Write a collection of functions imitating the environment for Puzzle-8."
      ],
      "metadata": {
        "id": "MT2-_26Vwr97"
      }
    },
    {
      "cell_type": "code",
      "source": [
        "import numpy as np\n",
        "import random\n",
        "class Puzzle8Environment:\n",
        "    def __init__(self,start_state=None,goal_state=None,depth=None):\n",
        "        self.actions=['u','d','l','r']\n",
        "        self.goal_state=goal_state\n",
        "        self.depth=depth\n",
        "        self.start_state=self.generate_start_state()\n",
        "    \n",
        "    def get_start_state(self):\n",
        "        return self.start_state\n",
        "    \n",
        "\n",
        "    def get_goal_state(self):\n",
        "        return self.goal_state\n",
        "    \n",
        "\n",
        "    def generate_start_state(self):\n",
        "        \n",
        "        past_state = self.goal_state\n",
        "        generated=[]\n",
        "        # create a list to store the generated states\n",
        "        generated.append(past_state)\n",
        "\n",
        "        i=0\n",
        "        while i!= self.depth-1:\n",
        "            new_states = self.get_next_states(past_state)\n",
        "            choice = random.randrange(len(new_states))\n",
        "            new_state=new_states[choice]\n",
        "\n",
        "            # Checking whether the generated puzzle already in generated or not            \n",
        "            flag = True\n",
        "            for gen in generated:\n",
        "                if isinstance(gen, np.ndarray) and np.array_equal(gen, new_state):\n",
        "                    flag = False\n",
        "                    break\n",
        "            \n",
        "            if not flag:\n",
        "               continue\n",
        "\n",
        "            generated.append(new_state)\n",
        "            past_state = new_state\n",
        "            i+=1\n",
        "            \n",
        "        return past_state\n",
        "        \n",
        "    def get_next_states(self,current_state,pos=None):\n",
        "        '''\n",
        "        Blank Space will move up, down, right and left\n",
        "        directions will be denoted by u, d, r, l\n",
        "\n",
        "        the puzzle is 3x3 matrix       \n",
        "        \n",
        "        '''\n",
        "        # if flag not according to actions return none\n",
        "        if pos != None:\n",
        "            if pos not in self.actions:\n",
        "                return None\n",
        "        \n",
        "        bi,bj=0,0 #   position_blank_space in the form of i,j\n",
        "\n",
        "        # Find the blank space position\n",
        "        for i in range(3):\n",
        "            for j in range(3):\n",
        "                if current_state[i][j]=='_':\n",
        "                    bi,bj=i,j\n",
        "                    break\n",
        "\n",
        "        next_states=[]\n",
        "        flag=[]\n",
        "                \n",
        "        if bi>0: # we can move up\n",
        "            ns=np.copy(current_state) # ns is the new_state\n",
        "            ns[bi][bj],ns[bi-1][bj]=ns[bi-1][bj],ns[bi][bj]\n",
        "            next_states.append(ns)\n",
        "            flag.append('u')\n",
        "\n",
        "\n",
        "        if bi<2: # we can move down\n",
        "            ns=np.copy(current_state) # ns is the new_state\n",
        "            ns[bi][bj],ns[bi+1][bj]=ns[bi+1][bj],ns[bi][bj]\n",
        "            next_states.append(ns)\n",
        "            flag.append('d')\n",
        "            \n",
        "\n",
        "        if bj>0: # we can move left\n",
        "            ns=np.copy(current_state) # ns is the new_state\n",
        "            ns[bi][bj],ns[bi][bj-1]=ns[bi][bj-1],ns[bi][bj]\n",
        "            next_states.append(ns)\n",
        "            flag.append('l')\n",
        "            \n",
        "\n",
        "        if bj < 2: # we can move right\n",
        "            ns=np.copy(current_state) # ns is the new_state\n",
        "            ns[bi][bj],ns[bi][bj+1]=ns[bi][bj+1],ns[bi][bj]\n",
        "            next_states.append(ns)\n",
        "            flag.append('r')\n",
        "        \n",
        "        if pos==None:\n",
        "            return next_states\n",
        "        else:\n",
        "            for i in range(4):\n",
        "                if flag[i]==pos:\n",
        "                    return next_states[i]\n",
        "                elif i==3:\n",
        "                    return None\n",
        "    \n",
        "    def is_goal_state(self,current_state):\n",
        "        for i in range(3):\n",
        "            for j in range(3):\n",
        "                if current_state[i][j] != self.goal_state[i][j] :\n",
        "                    return False\n",
        "        \n",
        "        return True"
      ],
      "metadata": {
        "id": "U7EdkCdQobWF"
      },
      "execution_count": 16,
      "outputs": []
    },
    {
      "cell_type": "markdown",
      "source": [
        "#3. Considering the cost associated with every move to be the same (uniform cost), write a function which can backtrack and produce the path taken to reach the goal state from the source/ initial state.\n",
        "\n",
        "#4. Generate Puzzle-8 instances with the goal state at depth “d”.\n",
        "\n",
        "### **We are doing both in single code, given goal state a puzzle instace of depth d will be created, and trail will be printed.**"
      ],
      "metadata": {
        "id": "ns-oehuHwy_Y"
      }
    },
    {
      "cell_type": "code",
      "source": [
        "depth = 10\n",
        "\n",
        "goal_state = np.array([[1,4,3], [8,'_',2], [7,6,5]])\n",
        "env = Puzzle8Environment(goal_state=goal_state,depth=depth)\n",
        "print(\"Start State: \")\n",
        "print(env.get_start_state())\n",
        "print(\"Goal State: \")\n",
        "print(env.get_goal_state())\n",
        "# print(env.reached_goal())"
      ],
      "metadata": {
        "colab": {
          "base_uri": "https://localhost:8080/"
        },
        "id": "cD8BFUyHqtL1",
        "outputId": "ea44f5e5-7f26-4e84-dbc6-b3dec66e2225"
      },
      "execution_count": 18,
      "outputs": [
        {
          "output_type": "stream",
          "name": "stdout",
          "text": [
            "Start State: \n",
            "[['4' '_' '8']\n",
            " ['1' '6' '3']\n",
            " ['7' '5' '2']]\n",
            "Goal State: \n",
            "[['1' '4' '3']\n",
            " ['8' '_' '2']\n",
            " ['7' '6' '5']]\n"
          ]
        }
      ]
    },
    {
      "cell_type": "code",
      "source": [
        "\n",
        "agent=Agent(env=env)\n",
        "agent.run()"
      ],
      "metadata": {
        "colab": {
          "base_uri": "https://localhost:8080/"
        },
        "id": "J15gRYSqq53q",
        "outputId": "e776d069-f24c-4e11-f404-217ead5dbbf7"
      },
      "execution_count": 19,
      "outputs": [
        {
          "output_type": "execute_result",
          "data": {
            "text/plain": [
              "(16242, 10)"
            ]
          },
          "metadata": {},
          "execution_count": 19
        }
      ]
    },
    {
      "cell_type": "code",
      "source": [
        "res=agent.get_sequence()\n",
        "print(len(res))\n",
        "for i in range(len(res)):\n",
        "    print(f'step - {i} :')\n",
        "    print(res[i])"
      ],
      "metadata": {
        "colab": {
          "base_uri": "https://localhost:8080/"
        },
        "id": "zaUgO62Itz8e",
        "outputId": "4f920a91-b0bb-4d8d-ba8c-b8557ca95884"
      },
      "execution_count": 20,
      "outputs": [
        {
          "output_type": "stream",
          "name": "stdout",
          "text": [
            "10\n",
            "step - 0 :\n",
            "[['4' '_' '8']\n",
            " ['1' '6' '3']\n",
            " ['7' '5' '2']]\n",
            "step - 1 :\n",
            "[['4' '8' '_']\n",
            " ['1' '6' '3']\n",
            " ['7' '5' '2']]\n",
            "step - 2 :\n",
            "[['4' '8' '3']\n",
            " ['1' '6' '_']\n",
            " ['7' '5' '2']]\n",
            "step - 3 :\n",
            "[['4' '8' '3']\n",
            " ['1' '6' '2']\n",
            " ['7' '5' '_']]\n",
            "step - 4 :\n",
            "[['4' '8' '3']\n",
            " ['1' '6' '2']\n",
            " ['7' '_' '5']]\n",
            "step - 5 :\n",
            "[['4' '8' '3']\n",
            " ['1' '_' '2']\n",
            " ['7' '6' '5']]\n",
            "step - 6 :\n",
            "[['4' '_' '3']\n",
            " ['1' '8' '2']\n",
            " ['7' '6' '5']]\n",
            "step - 7 :\n",
            "[['_' '4' '3']\n",
            " ['1' '8' '2']\n",
            " ['7' '6' '5']]\n",
            "step - 8 :\n",
            "[['1' '4' '3']\n",
            " ['_' '8' '2']\n",
            " ['7' '6' '5']]\n",
            "step - 9 :\n",
            "[['1' '4' '3']\n",
            " ['8' '_' '2']\n",
            " ['7' '6' '5']]\n"
          ]
        }
      ]
    },
    {
      "cell_type": "markdown",
      "source": [
        "# Prepare a table indicating the memory and time requirements to solve Puzzle-8 instances (depth “d”) using your graph search agent."
      ],
      "metadata": {
        "id": "_WpANYV-xk6O"
      }
    },
    {
      "cell_type": "code",
      "source": [
        "import time\n",
        "goal_state = np.array([[1,4,3], [8,'_',2], [7,6,5]])\n",
        "for i in range(3,15):\n",
        "  env = Puzzle8Environment(goal_state=goal_state,depth=i)\n",
        "  agent=Agent(env=env)\n",
        "  start_time = time.time()\n",
        "  nodes_travelled,depth=agent.run()\n",
        "  end_time=time.time()\n",
        "\n",
        "  time_taken=end_time-start_time\n",
        "  print(f'depth: {i}, node_travelled:{nodes_travelled}, soln_depth: {depth}, time:{time_taken}')\n",
        "  \n"
      ],
      "metadata": {
        "colab": {
          "base_uri": "https://localhost:8080/",
          "height": 549
        },
        "id": "zHnb8IV2rDoH",
        "outputId": "db41bc84-7aaa-4456-d3bb-8085cb5373f8"
      },
      "execution_count": 24,
      "outputs": [
        {
          "output_type": "stream",
          "name": "stdout",
          "text": [
            "depth: 3, node_travelled:6, soln_depth: 3, time:0.00029015541076660156\n",
            "depth: 4, node_travelled:26, soln_depth: 4, time:0.000972747802734375\n",
            "depth: 5, node_travelled:63, soln_depth: 5, time:0.0026407241821289062\n",
            "depth: 6, node_travelled:205, soln_depth: 6, time:0.01308894157409668\n",
            "depth: 7, node_travelled:506, soln_depth: 7, time:0.013495922088623047\n",
            "depth: 8, node_travelled:1394, soln_depth: 8, time:0.04174661636352539\n",
            "depth: 9, node_travelled:2530, soln_depth: 9, time:0.10842704772949219\n",
            "depth: 10, node_travelled:16573, soln_depth: 10, time:2.2783303260803223\n",
            "depth: 11, node_travelled:47492, soln_depth: 11, time:18.27158784866333\n",
            "depth: 12, node_travelled:119997, soln_depth: 12, time:131.11598896980286\n",
            "depth: 13, node_travelled:191482, soln_depth: 13, time:377.4216043949127\n"
          ]
        },
        {
          "output_type": "error",
          "ename": "KeyboardInterrupt",
          "evalue": "ignored",
          "traceback": [
            "\u001b[0;31m---------------------------------------------------------------------------\u001b[0m",
            "\u001b[0;31mKeyboardInterrupt\u001b[0m                         Traceback (most recent call last)",
            "\u001b[0;32m<ipython-input-24-9dfd9526cb1c>\u001b[0m in \u001b[0;36m<module>\u001b[0;34m\u001b[0m\n\u001b[1;32m      5\u001b[0m   \u001b[0magent\u001b[0m\u001b[0;34m=\u001b[0m\u001b[0mAgent\u001b[0m\u001b[0;34m(\u001b[0m\u001b[0menv\u001b[0m\u001b[0;34m=\u001b[0m\u001b[0menv\u001b[0m\u001b[0;34m)\u001b[0m\u001b[0;34m\u001b[0m\u001b[0;34m\u001b[0m\u001b[0m\n\u001b[1;32m      6\u001b[0m   \u001b[0mstart_time\u001b[0m \u001b[0;34m=\u001b[0m \u001b[0mtime\u001b[0m\u001b[0;34m.\u001b[0m\u001b[0mtime\u001b[0m\u001b[0;34m(\u001b[0m\u001b[0;34m)\u001b[0m\u001b[0;34m\u001b[0m\u001b[0;34m\u001b[0m\u001b[0m\n\u001b[0;32m----> 7\u001b[0;31m   \u001b[0mnodes_travelled\u001b[0m\u001b[0;34m,\u001b[0m\u001b[0mdepth\u001b[0m\u001b[0;34m=\u001b[0m\u001b[0magent\u001b[0m\u001b[0;34m.\u001b[0m\u001b[0mrun\u001b[0m\u001b[0;34m(\u001b[0m\u001b[0;34m)\u001b[0m\u001b[0;34m\u001b[0m\u001b[0;34m\u001b[0m\u001b[0m\n\u001b[0m\u001b[1;32m      8\u001b[0m   \u001b[0mend_time\u001b[0m\u001b[0;34m=\u001b[0m\u001b[0mtime\u001b[0m\u001b[0;34m.\u001b[0m\u001b[0mtime\u001b[0m\u001b[0;34m(\u001b[0m\u001b[0;34m)\u001b[0m\u001b[0;34m\u001b[0m\u001b[0;34m\u001b[0m\u001b[0m\n\u001b[1;32m      9\u001b[0m \u001b[0;34m\u001b[0m\u001b[0m\n",
            "\u001b[0;32m<ipython-input-17-cccad91f48d4>\u001b[0m in \u001b[0;36mrun\u001b[0;34m(self)\u001b[0m\n\u001b[1;32m     24\u001b[0m \u001b[0;34m\u001b[0m\u001b[0m\n\u001b[1;32m     25\u001b[0m             \u001b[0;31m# If the node is already visited skip this iteration\u001b[0m\u001b[0;34m\u001b[0m\u001b[0;34m\u001b[0m\u001b[0;34m\u001b[0m\u001b[0m\n\u001b[0;32m---> 26\u001b[0;31m             \u001b[0;32mif\u001b[0m \u001b[0mcur\u001b[0m \u001b[0;32min\u001b[0m \u001b[0mexplored\u001b[0m\u001b[0;34m:\u001b[0m\u001b[0;34m\u001b[0m\u001b[0;34m\u001b[0m\u001b[0m\n\u001b[0m\u001b[1;32m     27\u001b[0m                 \u001b[0;32mcontinue\u001b[0m\u001b[0;34m\u001b[0m\u001b[0;34m\u001b[0m\u001b[0m\n\u001b[1;32m     28\u001b[0m \u001b[0;34m\u001b[0m\u001b[0m\n",
            "\u001b[0;31mKeyboardInterrupt\u001b[0m: "
          ]
        }
      ]
    }
  ]
}